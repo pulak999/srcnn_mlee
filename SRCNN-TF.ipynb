{
 "cells": [
  {
   "cell_type": "markdown",
   "metadata": {
    "colab_type": "text",
    "id": "view-in-github"
   },
   "source": [
    "<a href=\"https://colab.research.google.com/github/Nhat-Thanh/SRCNN-TF/blob/main/SRCNN-TF.ipynb\" target=\"_parent\"><img src=\"https://colab.research.google.com/assets/colab-badge.svg\" alt=\"Open In Colab\"/></a>"
   ]
  },
  {
   "cell_type": "markdown",
   "metadata": {
    "id": "0qFuIBWYtEA-"
   },
   "source": [
    "# **Train**"
   ]
  },
  {
   "cell_type": "code",
   "execution_count": 5,
   "metadata": {
    "id": "aCxs66QIs9JU"
   },
   "outputs": [
    {
     "name": "stdout",
     "output_type": "stream",
     "text": [
      "/Users/pulakmehrotra/Documents/Pulak/BITS\n"
     ]
    }
   ],
   "source": [
    "%cd ~/Documents/Pulak/BITS"
   ]
  },
  {
   "cell_type": "code",
   "execution_count": 6,
   "metadata": {},
   "outputs": [
    {
     "name": "stdout",
     "output_type": "stream",
     "text": [
      "/Users/pulakmehrotra/Documents/Pulak/BITS/YEAR 3\n"
     ]
    }
   ],
   "source": [
    "%cd \"YEAR 3\""
   ]
  },
  {
   "cell_type": "code",
   "execution_count": 7,
   "metadata": {},
   "outputs": [
    {
     "name": "stdout",
     "output_type": "stream",
     "text": [
      "/Users/pulakmehrotra/Documents/Pulak/BITS/YEAR 3/SEM 1\n"
     ]
    }
   ],
   "source": [
    "%cd \"SEM 1\" "
   ]
  },
  {
   "cell_type": "code",
   "execution_count": 9,
   "metadata": {},
   "outputs": [
    {
     "name": "stdout",
     "output_type": "stream",
     "text": [
      "/Users/pulakmehrotra/Documents/Pulak/BITS/YEAR 3/SEM 1/MLEE/Code/Assignment/SRCNN-TF\n"
     ]
    }
   ],
   "source": [
    "%cd MLEE/Code/Assignment/SRCNN-TF"
   ]
  },
  {
   "cell_type": "code",
   "execution_count": 26,
   "metadata": {
    "id": "c4ubd8IMmaXf"
   },
   "outputs": [
    {
     "name": "stdout",
     "output_type": "stream",
     "text": [
      "zsh:1: no matches found: dataset/*.npy\n",
      "dataset/train/img_001.png\n",
      "dataset/train/img_002.png\n",
      "dataset/train/img_003.png\n",
      "dataset/train/img_004.png\n",
      "dataset/train/img_005.png\n",
      "dataset/validation/img_071.png\n"
     ]
    }
   ],
   "source": [
    "# train SRCNN-935 model\n",
    "!rm -rf dataset/*.npy\n",
    "!python train.py --ckpt-dir=\"checkpoint/SRCNN935\"  "
   ]
  },
  {
   "cell_type": "code",
   "execution_count": null,
   "metadata": {},
   "outputs": [],
   "source": [
    "# train SRCNN-9335 model\n",
    "!rm -rf dataset/*.npy\n",
    "!python train.py  --steps=2000                  \\\n",
    "                  --architecture=\"9335\"              \\\n",
    "                  --batch_size=128                  \\\n",
    "                  --save-best-only=1                \\\n",
    "                  --save-every=1000                 \\\n",
    "                  --save-log=0                      \\\n",
    "                  --ckpt-dir=\"checkpoint/SRCNN9335\"  "
   ]
  },
  {
   "cell_type": "code",
   "execution_count": null,
   "metadata": {
    "id": "E6ekTfh-ol5A"
   },
   "outputs": [],
   "source": [
    "# train SRCNN-93335 model\n",
    "!rm -rf dataset/*.npy\n",
    "!python train.py  --steps=2000                  \\\n",
    "                  --architecture=\"93335\"              \\\n",
    "                  --batch_size=128                  \\\n",
    "                  --save-best-only=1                \\\n",
    "                  --save-every=1000                 \\\n",
    "                  --save-log=0                      \\\n",
    "                  --ckpt-dir=\"checkpoint/SRCNN93335\"  "
   ]
  },
  {
   "cell_type": "markdown",
   "metadata": {},
   "source": [
    "# **Test**"
   ]
  },
  {
   "cell_type": "code",
   "execution_count": 24,
   "metadata": {},
   "outputs": [
    {
     "name": "stdout",
     "output_type": "stream",
     "text": [
      "Traceback (most recent call last):\n",
      "  File \"/Users/pulakmehrotra/Documents/Pulak/BITS/YEAR 3/SEM 1/MLEE/Code/Assignment/SRCNN-TF/test.py\", line 69, in <module>\n",
      "    main()\n",
      "  File \"/Users/pulakmehrotra/Documents/Pulak/BITS/YEAR 3/SEM 1/MLEE/Code/Assignment/SRCNN-TF/test.py\", line 41, in main\n",
      "    model.load_weights(ckpt_path)\n",
      "  File \"/Users/pulakmehrotra/Documents/Pulak/BITS/YEAR 3/SEM 1/MLEE/Code/Assignment/SRCNN-TF/model.py\", line 49, in load_weights\n",
      "    self.model.load_weights(filepath)\n",
      "  File \"/Users/pulakmehrotra/anaconda3/envs/tensorflow/lib/python3.10/site-packages/keras/src/utils/traceback_utils.py\", line 70, in error_handler\n",
      "    raise e.with_traceback(filtered_tb) from None\n",
      "  File \"/Users/pulakmehrotra/anaconda3/envs/tensorflow/lib/python3.10/site-packages/h5py/_hl/files.py\", line 533, in __init__\n",
      "    fid = make_fid(name, mode, userblock_size, fapl, fcpl, swmr=swmr)\n",
      "  File \"/Users/pulakmehrotra/anaconda3/envs/tensorflow/lib/python3.10/site-packages/h5py/_hl/files.py\", line 226, in make_fid\n",
      "    fid = h5f.open(name, flags, fapl=fapl)\n",
      "  File \"h5py/_objects.pyx\", line 54, in h5py._objects.with_phil.wrapper\n",
      "  File \"h5py/_objects.pyx\", line 55, in h5py._objects.with_phil.wrapper\n",
      "  File \"h5py/h5f.pyx\", line 106, in h5py.h5f.open\n",
      "FileNotFoundError: [Errno 2] Unable to open file (unable to open file: name = 'checkpoint/SRCNN935/SRCNN-935.h5', errno = 2, error message = 'No such file or directory', flags = 0, o_flags = 0)\n"
     ]
    }
   ],
   "source": [
    "!python test.py --scale=2 --architecture=935 --ckpt-path=\"default\"\n",
    "#!python test.py --scale=3 --architecture=915 --ckpt-path=\"default\"\n",
    "#!python test.py --scale=4 --architecture=915 --ckpt-path=\"default\""
   ]
  },
  {
   "cell_type": "code",
   "execution_count": null,
   "metadata": {},
   "outputs": [],
   "source": [
    "!python test.py --scale=2 --architecture=9335 --ckpt-path=\"default\""
   ]
  },
  {
   "cell_type": "code",
   "execution_count": null,
   "metadata": {},
   "outputs": [],
   "source": [
    "!python test.py --scale=2 --architecture=93335 --ckpt-path=\"default\""
   ]
  }
 ],
 "metadata": {
  "accelerator": "GPU",
  "colab": {
   "authorship_tag": "ABX9TyM8JPlu1HB8rzgigjIFzXvt",
   "collapsed_sections": [],
   "include_colab_link": true,
   "name": "SRCNN-TF.ipynb",
   "provenance": []
  },
  "kernelspec": {
   "display_name": "Python 3 (ipykernel)",
   "language": "python",
   "name": "python3"
  },
  "language_info": {
   "codemirror_mode": {
    "name": "ipython",
    "version": 3
   },
   "file_extension": ".py",
   "mimetype": "text/x-python",
   "name": "python",
   "nbconvert_exporter": "python",
   "pygments_lexer": "ipython3",
   "version": "3.10.12"
  }
 },
 "nbformat": 4,
 "nbformat_minor": 4
}
